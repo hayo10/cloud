{
 "cells": [
  {
   "cell_type": "code",
   "execution_count": null,
   "id": "9214822a",
   "metadata": {},
   "outputs": [],
   "source": [
    "import torch\n",
    "from transformers import AutoModelForCausalLM, AutoTokenizer\n",
    "import gc\n",
    "from customed_pipeline import CustomedPipeline\n",
    "from model_ref import NewPhi3Config"
   ]
  },
  {
   "cell_type": "code",
   "execution_count": null,
   "id": "ee492390",
   "metadata": {},
   "outputs": [],
   "source": [
    "messages = [[\n",
    "    {\"role\": \"user\", \"content\": \"Can you provide ways to eat combinations of bananas and dragonfruits?\"},\n",
    "    {\"role\": \"assistant\", \"content\": \"Sure! Here are some ways to eat bananas and dragonfruits together: 1. Banana and dragonfruit smoothie: Blend bananas and dragonfruits together with some milk and honey. 2. Banana and dragonfruit salad: Mix sliced bananas and dragonfruits together with some lemon juice and honey.\"},\n",
    "    {\"role\": \"user\", \"content\": \"What about solving an 2x + 3 = 7 equation?\"},\n",
    "],\n",
    "[{\"role\": \"user\", \"content\": \"Can you provide ways to eat combinations of bananas and dragonfruits?\"}]]"
   ]
  },
  {
   "cell_type": "code",
   "execution_count": null,
   "id": "4c5f45a1",
   "metadata": {},
   "outputs": [],
   "source": [
    "torch.random.manual_seed(0)\n",
    "model_id = \"microsoft/Phi-3-mini-4k-instruct\"\n",
    "model = AutoModelForCausalLM.from_pretrained(\n",
    "    model_id,\n",
    "    device_map=\"cuda\", \n",
    "    torch_dtype=\"auto\", \n",
    "    trust_remote_code=True, \n",
    ")\n",
    "tokenizer = AutoTokenizer.from_pretrained(model_id)\n",
    "generation_args = {\n",
    "    \"max_new_tokens\": 500,\n",
    "    \"return_full_text\": False,\n",
    "    \"temperature\": 0.0,\n",
    "    \"do_sample\": False,\n",
    "}"
   ]
  },
  {
   "cell_type": "code",
   "execution_count": null,
   "id": "6ea462eb",
   "metadata": {},
   "outputs": [],
   "source": [
    "gc.collect()\n",
    "config = NewPhi3Config()\n",
    "pipe = CustomedPipeline(config)"
   ]
  },
  {
   "cell_type": "code",
   "execution_count": null,
   "id": "08bde2d9",
   "metadata": {},
   "outputs": [],
   "source": [
    "inputs = pipe.preprocess(messages)\n",
    "outputs = pipe.forward(inputs)\n",
    "result = pipe.postprocess(outputs)\n",
    "print(result)"
   ]
  }
 ],
 "metadata": {
  "kernelspec": {
   "display_name": "Python [conda env:ss] *",
   "language": "python",
   "name": "conda-env-ss-py"
  },
  "language_info": {
   "codemirror_mode": {
    "name": "ipython",
    "version": 3
   },
   "file_extension": ".py",
   "mimetype": "text/x-python",
   "name": "python",
   "nbconvert_exporter": "python",
   "pygments_lexer": "ipython3",
   "version": "3.11.9"
  }
 },
 "nbformat": 4,
 "nbformat_minor": 5
}
